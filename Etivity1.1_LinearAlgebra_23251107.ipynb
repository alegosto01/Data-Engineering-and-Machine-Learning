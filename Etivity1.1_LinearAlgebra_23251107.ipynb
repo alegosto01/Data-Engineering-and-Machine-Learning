{
 "cells": [
  {
   "cell_type": "markdown",
   "metadata": {},
   "source": [
    "### Your details"
   ]
  },
  {
   "cell_type": "markdown",
   "metadata": {},
   "source": [
    "Your Name: Alessandro Gostoli"
   ]
  },
  {
   "cell_type": "markdown",
   "metadata": {},
   "source": [
    "Your ID number: 23251107"
   ]
  },
  {
   "cell_type": "markdown",
   "metadata": {},
   "source": [
    "# Task 1"
   ]
  },
  {
   "cell_type": "markdown",
   "metadata": {},
   "source": [
    "## Approach\n",
    "\n",
    "I watched all the videos about linear algebra provided in order to remember all he concepts. After that i tried to write the function one by one in order, coming back to the theory part every time i needed to study again a topic.\n",
    "\n",
    "I also tried to re-use some functions when it was possible. For example i used \"Matrix_size()\" inside \"Sum_matrix()\" function. "
   ]
  },
  {
   "cell_type": "markdown",
   "metadata": {},
   "source": [
    "## Manual Calculations\n",
    "\n",
    "I used some websites like \"calculatorsoup.com\" and \"matrix.reshish.com\" to check the results"
   ]
  },
  {
   "cell_type": "markdown",
   "metadata": {},
   "source": [
    "## Code"
   ]
  },
  {
   "cell_type": "markdown",
   "metadata": {},
   "source": [
    "## Part a"
   ]
  },
  {
   "cell_type": "markdown",
   "metadata": {},
   "source": [
    "Scalar Multiplication"
   ]
  },
  {
   "cell_type": "code",
   "execution_count": 12,
   "metadata": {},
   "outputs": [
    {
     "data": {
      "text/plain": [
       "[4, 8, 12, 16]"
      ]
     },
     "execution_count": 12,
     "metadata": {},
     "output_type": "execute_result"
    }
   ],
   "source": [
    "#Scalar multiplication\n",
    "def Scalar_mul(vec, scalar):\n",
    "    for i in range(len(vec)):\n",
    "        vec[i] = vec[i] * scalar\n",
    "    return vec\n",
    "\n",
    "vector = [1,2,3,4]\n",
    "scalar = 4\n",
    "\n",
    "Scalar_mul(vector, scalar)"
   ]
  },
  {
   "cell_type": "markdown",
   "metadata": {},
   "source": [
    "Addition and subtraction"
   ]
  },
  {
   "cell_type": "code",
   "execution_count": 13,
   "metadata": {},
   "outputs": [
    {
     "name": "stdout",
     "output_type": "stream",
     "text": [
      "[10, 12, 14]\n",
      "[6, 6, 6]\n"
     ]
    }
   ],
   "source": [
    "def Addition(vec1, vec2):\n",
    "    result = []\n",
    "    if len(vec1) == len(vec2):\n",
    "        for i in range(len(vec1)):\n",
    "            result.append(vec1[i] + vec2[i])\n",
    "    else:\n",
    "        print(\"Provided vectors don't have the same size!\")\n",
    "    return result\n",
    "\n",
    "def Subtraction(vec1, vec2):\n",
    "    result = []\n",
    "    if len(vec1) == len(vec2):\n",
    "        for i in range(len(vec1)):\n",
    "            result.append(vec1[i] + -(vec2[i]))\n",
    "    else:\n",
    "        print(\"Provided vectors don't have the same size!\")\n",
    "    return result\n",
    "\n",
    "vec1 = [8,9,10]\n",
    "vec2 = [2,3,4]\n",
    "\n",
    "print(Addition(vec1, vec2))\n",
    "print(Subtraction(vec1, vec2))"
   ]
  },
  {
   "cell_type": "markdown",
   "metadata": {},
   "source": [
    "Dot Product"
   ]
  },
  {
   "cell_type": "code",
   "execution_count": 14,
   "metadata": {},
   "outputs": [
    {
     "data": {
      "text/plain": [
       "83"
      ]
     },
     "execution_count": 14,
     "metadata": {},
     "output_type": "execute_result"
    }
   ],
   "source": [
    "def Dot_Product(vec1, vec2):\n",
    "    result = 0\n",
    "    n = 0\n",
    "    if len(vec1) == len(vec2):\n",
    "        n = len(vec1)\n",
    "        for i in range(n):\n",
    "            result += vec1[i] * vec2[i]\n",
    "    else:\n",
    "        print(\"Provided vector don't have the same size!\")\n",
    "    return result\n",
    "\n",
    "Dot_Product(vec1, vec2)"
   ]
  },
  {
   "cell_type": "markdown",
   "metadata": {},
   "source": [
    "Cross Product\n"
   ]
  },
  {
   "cell_type": "code",
   "execution_count": 15,
   "metadata": {},
   "outputs": [
    {
     "data": {
      "text/plain": [
       "[6, -12, 6]"
      ]
     },
     "execution_count": 15,
     "metadata": {},
     "output_type": "execute_result"
    }
   ],
   "source": [
    "def Cross_Product(vec1, vec2):\n",
    "    result = []\n",
    "    n = 3\n",
    "    if len(vec1) == len(vec2):\n",
    "        x = vec1[1]*vec2[2] - vec1[2]*vec2[1]\n",
    "        y = vec1[2]*vec2[0] - vec1[0]*vec2[2]\n",
    "        z = vec1[0]*vec2[1] - vec1[1]*vec2[0]\n",
    "        result.extend([x,y,z])\n",
    "    else:\n",
    "        print(\"Provided vectors are not 3-vectors!\")\n",
    "    return result\n",
    "\n",
    "Cross_Product(vec1, vec2)"
   ]
  },
  {
   "cell_type": "markdown",
   "metadata": {},
   "source": [
    "## Part b"
   ]
  },
  {
   "cell_type": "markdown",
   "metadata": {},
   "source": [
    "Size of Matrix"
   ]
  },
  {
   "cell_type": "code",
   "execution_count": 16,
   "metadata": {},
   "outputs": [
    {
     "data": {
      "text/plain": [
       "(2, 3)"
      ]
     },
     "execution_count": 16,
     "metadata": {},
     "output_type": "execute_result"
    }
   ],
   "source": [
    "def Matrix_Size(matrix):\n",
    "    n_rows = len(matrix)\n",
    "    n_columns = len(matrix[0])\n",
    "    return (n_rows, n_columns)\n",
    "\n",
    "Matrix_Size([[1,2,3], [4,5,6]])"
   ]
  },
  {
   "cell_type": "markdown",
   "metadata": {},
   "source": [
    "Sum and Subtraction between matrix"
   ]
  },
  {
   "cell_type": "code",
   "execution_count": 17,
   "metadata": {},
   "outputs": [
    {
     "data": {
      "text/plain": [
       "[[2, 4, 6], [4, 6, 8]]"
      ]
     },
     "execution_count": 17,
     "metadata": {},
     "output_type": "execute_result"
    }
   ],
   "source": [
    "def Sum_Matrix(mat1, mat2):\n",
    "    result_matrix = []\n",
    "    mat1_rows, mat1_columns = Matrix_Size(mat1)\n",
    "    mat2_rows, mat2_columns = Matrix_Size(mat2)\n",
    "    if(mat1_columns == mat2_columns and mat1_rows == mat2_rows):\n",
    "        for r in range(mat1_rows):\n",
    "            new_row = []\n",
    "            for c in range(mat1_columns):\n",
    "                new_row.append(mat1[r][c] + mat2[r][c])\n",
    "            result_matrix.append(new_row)\n",
    "    else:\n",
    "        print(\"Provided matrix don't have the same sizes!\")\n",
    "        print(\"Matrix 1 size = ({mat1_rows}, {mat1_columns}\")\n",
    "        print(\"Matrix 2 size = ({mat2_rows}, {mat2_columns}\")\n",
    "    return result_matrix\n",
    "        \n",
    "\n",
    "matrix1 = [[1,2,3], [2,3,4]]\n",
    "matrix2 = [[1,2,3], [2,3,4]]\n",
    "\n",
    "Sum_Matrix(matrix1, matrix2)"
   ]
  },
  {
   "cell_type": "code",
   "execution_count": 18,
   "metadata": {},
   "outputs": [
    {
     "data": {
      "text/plain": [
       "[[0, 0, 0], [0, 0, 0]]"
      ]
     },
     "execution_count": 18,
     "metadata": {},
     "output_type": "execute_result"
    }
   ],
   "source": [
    "def Subtraction_Matrix(mat1, mat2):\n",
    "    result_matrix = []\n",
    "    mat1_rows, mat1_columns = Matrix_Size(mat1)\n",
    "    mat2_rows, mat2_columns = Matrix_Size(mat2)\n",
    "    if(mat1_columns == mat2_columns and mat1_rows == mat2_rows):\n",
    "        for r in range(mat1_rows):\n",
    "            new_row = []\n",
    "            for c in range(mat1_columns):\n",
    "                new_row.append(mat1[r][c] - mat2[r][c])\n",
    "            result_matrix.append(new_row)\n",
    "    else:\n",
    "        print(\"Provided matrix don't have the same sizes!\")\n",
    "        print(\"Matrix 1 size = ({mat1_rows}, {mat1_columns}\")\n",
    "        print(\"Matrix 2 size = ({mat2_rows}, {mat2_columns}\")\n",
    "    return result_matrix\n",
    "        \n",
    "\n",
    "matrix1 = [[1,2,3], [2,3,4]]\n",
    "matrix2 = [[1,2,3], [2,3,4]]\n",
    "\n",
    "Subtraction_Matrix(matrix1, matrix2)"
   ]
  },
  {
   "cell_type": "markdown",
   "metadata": {},
   "source": [
    "Multiplication between matrix and vector"
   ]
  },
  {
   "cell_type": "code",
   "execution_count": 19,
   "metadata": {},
   "outputs": [
    {
     "data": {
      "text/plain": [
       "[14, 20]"
      ]
     },
     "execution_count": 19,
     "metadata": {},
     "output_type": "execute_result"
    }
   ],
   "source": [
    "def Multiplication_Matrix_Vector(mat1, vect):\n",
    "    result_vector = []\n",
    "    mat1_rows, mat1_columns = Matrix_Size(mat1)\n",
    "    len_vect = len(vect)\n",
    "    if(mat1_columns == len_vect):\n",
    "        for r in range(0,mat1_rows):\n",
    "            result_vector.append(Dot_Product(mat1[r], vect))\n",
    "    else:\n",
    "        print(\"Provided matrix and the vector don't have the right sizes! They can't be multiplied\")\n",
    "        print(\"Matrix 1 size = ({mat1_rows}, {mat1_columns}\")\n",
    "        print(\"Vector size = ({len_vect}\")\n",
    "    return result_vector\n",
    "\n",
    "\n",
    "matrix1 = [[1,2,3], [2,3,4]]\n",
    "vector = [1, 2, 3]\n",
    "\n",
    "Multiplication_Matrix_Vector(matrix1, vector)"
   ]
  },
  {
   "cell_type": "markdown",
   "metadata": {},
   "source": [
    "Multiplication between matrix."
   ]
  },
  {
   "cell_type": "code",
   "execution_count": 20,
   "metadata": {},
   "outputs": [
    {
     "data": {
      "text/plain": [
       "[[14, 20, 26], [20, 29, 38]]"
      ]
     },
     "execution_count": 20,
     "metadata": {},
     "output_type": "execute_result"
    }
   ],
   "source": [
    "def Multiplication_Matrix_Matrix(mat1, mat2):\n",
    "    result_matrix = []\n",
    "    mat1_rows, mat1_columns = Matrix_Size(mat1)\n",
    "    mat2_rows, mat2_columns = Matrix_Size(mat2)\n",
    "    if(mat1_columns == mat2_rows):\n",
    "        for r in range(0,mat1_rows):\n",
    "            new_row = []\n",
    "            for c in range(0,mat2_columns):\n",
    "                new_row.append(Dot_Product(mat1[r], [row[c] for row in mat2]))\n",
    "            result_matrix.append(new_row)\n",
    "    else:\n",
    "        print(\"Provided matrix don't have the right sizes! They can't be multiplied\")\n",
    "        print(\"Matrix 1 size = ({mat1_rows}, {mat1_columns}\")\n",
    "        print(\"Matrix 2 size = ({mat2_rows}, {mat2_columns}\")\n",
    "    return result_matrix\n",
    "\n",
    "\n",
    "matrix1 = [[1,2,3], [2,3,4]]\n",
    "matrix2 = [[1,2,3], [2,3,4], [3,4,5]]\n",
    "\n",
    "Multiplication_Matrix_Matrix(matrix1, matrix2)"
   ]
  },
  {
   "cell_type": "markdown",
   "metadata": {},
   "source": [
    "Determinant 2x2"
   ]
  },
  {
   "cell_type": "code",
   "execution_count": 21,
   "metadata": {},
   "outputs": [
    {
     "data": {
      "text/plain": [
       "-1"
      ]
     },
     "execution_count": 21,
     "metadata": {},
     "output_type": "execute_result"
    }
   ],
   "source": [
    "def Determinant2by2(matrix):\n",
    "    det = 0\n",
    "    mat_rows, mat_columns = Matrix_Size(matrix)\n",
    "    if(mat_columns == mat_rows == 2):\n",
    "        det = matrix[0][0] * matrix[1][1] - matrix[1][0] * matrix[0][1]\n",
    "    else:\n",
    "        print(\"Provided matrix is not 2x2!\")\n",
    "    return det\n",
    "\n",
    "\n",
    "matrix = [[1,2], [2,3]]\n",
    "\n",
    "\n",
    "Determinant2by2(matrix)"
   ]
  },
  {
   "cell_type": "markdown",
   "metadata": {},
   "source": [
    "Inverse matrix 2x2"
   ]
  },
  {
   "cell_type": "code",
   "execution_count": 22,
   "metadata": {},
   "outputs": [
    {
     "data": {
      "text/plain": [
       "[[-3.0, 2.0], [2.0, -1.0]]"
      ]
     },
     "execution_count": 22,
     "metadata": {},
     "output_type": "execute_result"
    }
   ],
   "source": [
    "def Inverse2by2(matrix):\n",
    "    inverted_matrix = []\n",
    "    det = Determinant2by2(matrix)\n",
    "    mat_rows, mat_columns = Matrix_Size(matrix)\n",
    "    if(det == 0):\n",
    "        print(\"Provided matrix is not invertible. Determinant = 0\")\n",
    "    elif(mat_columns == mat_rows == 2):\n",
    "        inverted_matrix.extend([[matrix[1][1] / det, -matrix[0][1] / det],[-matrix[1][0] / det, matrix[0][0] / det]])\n",
    "    else:\n",
    "        print(\"Provided matrix is not 2x2!\")\n",
    "    return inverted_matrix\n",
    "\n",
    "\n",
    "matrix = [[1,2], [2,3]]\n",
    "\n",
    "\n",
    "Inverse2by2(matrix)"
   ]
  }
 ],
 "metadata": {
  "kernelspec": {
   "display_name": "Python 3 (ipykernel)",
   "language": "python",
   "name": "python3"
  },
  "language_info": {
   "codemirror_mode": {
    "name": "ipython",
    "version": 3
   },
   "file_extension": ".py",
   "mimetype": "text/x-python",
   "name": "python",
   "nbconvert_exporter": "python",
   "pygments_lexer": "ipython3",
   "version": "3.9.12"
  }
 },
 "nbformat": 4,
 "nbformat_minor": 4
}
